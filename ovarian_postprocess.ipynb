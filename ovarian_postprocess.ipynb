{
 "cells": [
  {
   "cell_type": "code",
   "execution_count": 1,
   "metadata": {},
   "outputs": [
    {
     "name": "stdout",
     "output_type": "stream",
     "text": [
      "/Users/apartin/Library/CloudStorage/Box-Box/AP_work/Proposals/Ovarian/GraphDRP\n"
     ]
    }
   ],
   "source": [
    "import os\n",
    "from pathlib import Path\n",
    "import numpy as np\n",
    "import pandas as pd\n",
    "import seaborn as sns\n",
    "import matplotlib.pyplot as plt\n",
    "\n",
    "# filepath = Path(__file__).parent\n",
    "filepath = Path(os.path.abspath(''))\n",
    "print(filepath)\n",
    "\n",
    "# infer_dir = filepath / \"out_infer\"\n",
    "models_dir = filepath / 'pred_models'\n",
    "model_name  = 'DeepTTC'\n",
    "# model_name  = 'GraphDRP'\n",
    "# model_name  = 'HIDRA'\n",
    "# model_name  = 'IGTD'\n",
    "# model_name  = 'PaccMann_MCA'\n",
    "infer_dir = models_dir / model_name / \"out_infer\"\n",
    "\n",
    "preds_fname = \"test_y_data_predicted.csv\"\n",
    "\n",
    "canc_col_name = \"improve_sample_id\"\n",
    "drug_col_name = \"improve_chem_id\"\n",
    "\n",
    "target = \"PDMR\"\n",
    "\n",
    "ov_drug_info = pd.read_csv(filepath / \"ovarian_data/raw_data/y_data/Drugs_For_OV_Proposal_Analysis.txt\", sep=\"\\t\")"
   ]
  },
  {
   "cell_type": "code",
   "execution_count": 2,
   "metadata": {},
   "outputs": [],
   "source": [
    "def agg_pred_files(res_dir: Path):\n",
    "    dfs = []\n",
    "    split_dirs = list(res_dir.glob(\"split_*\"))\n",
    "    for sdir in split_dirs:\n",
    "        preds_fpath = sdir / preds_fname\n",
    "        if preds_fpath.exists():\n",
    "            split = str(sdir).split(\"split_\")[1]\n",
    "            df = pd.read_csv(preds_fpath)\n",
    "            df[\"split\"] = int(split)\n",
    "            dfs.append(df)\n",
    "    rr = pd.concat(dfs, axis=0)#.sort_values([\"split\"]).reset_index(drop=True)\n",
    "    rr = rr.sort_values([\"split\", canc_col_name, drug_col_name]).reset_index(drop=True)\n",
    "    return rr\n",
    "\n",
    "\n",
    "def agg_pred_scores(df: pd.DataFrame):\n",
    "    group_by_cols = ['improve_sample_id', 'improve_chem_id']\n",
    "    ff = df.groupby(group_by_cols).agg(\n",
    "        pred_mean=('auc_pred', 'mean'),\n",
    "        pred_std=('auc_pred', 'std'))\n",
    "    ff = ff.reset_index().sort_values(['improve_chem_id', 'improve_sample_id', 'pred_mean']).reset_index(drop=True)\n",
    "    # ff = ff.reset_index().sort_values(['pred_mean', 'improve_chem_id', 'improve_sample_id']).reset_index(drop=True)\n",
    "    return ff"
   ]
  },
  {
   "cell_type": "code",
   "execution_count": 3,
   "metadata": {},
   "outputs": [
    {
     "ename": "ValueError",
     "evalue": "No objects to concatenate",
     "output_type": "error",
     "traceback": [
      "\u001b[0;31m---------------------------------------------------------------------------\u001b[0m",
      "\u001b[0;31mValueError\u001b[0m                                Traceback (most recent call last)",
      "Cell \u001b[0;32mIn[3], line 11\u001b[0m\n\u001b[1;32m      9\u001b[0m source \u001b[38;5;241m=\u001b[39m \u001b[38;5;124m\"\u001b[39m\u001b[38;5;124mGDSCv2\u001b[39m\u001b[38;5;124m\"\u001b[39m\n\u001b[1;32m     10\u001b[0m res_dir \u001b[38;5;241m=\u001b[39m infer_dir \u001b[38;5;241m/\u001b[39m \u001b[38;5;124mf\u001b[39m\u001b[38;5;124m\"\u001b[39m\u001b[38;5;132;01m{\u001b[39;00msource\u001b[38;5;132;01m}\u001b[39;00m\u001b[38;5;124m-\u001b[39m\u001b[38;5;132;01m{\u001b[39;00mtarget\u001b[38;5;132;01m}\u001b[39;00m\u001b[38;5;124m\"\u001b[39m\n\u001b[0;32m---> 11\u001b[0m gg \u001b[38;5;241m=\u001b[39m \u001b[43magg_pred_files\u001b[49m\u001b[43m(\u001b[49m\u001b[43mres_dir\u001b[49m\u001b[43m)\u001b[49m\n\u001b[1;32m     12\u001b[0m ga \u001b[38;5;241m=\u001b[39m agg_pred_scores(gg)\n",
      "Cell \u001b[0;32mIn[2], line 11\u001b[0m, in \u001b[0;36magg_pred_files\u001b[0;34m(res_dir)\u001b[0m\n\u001b[1;32m      9\u001b[0m         df[\u001b[38;5;124m\"\u001b[39m\u001b[38;5;124msplit\u001b[39m\u001b[38;5;124m\"\u001b[39m] \u001b[38;5;241m=\u001b[39m \u001b[38;5;28mint\u001b[39m(split)\n\u001b[1;32m     10\u001b[0m         dfs\u001b[38;5;241m.\u001b[39mappend(df)\n\u001b[0;32m---> 11\u001b[0m rr \u001b[38;5;241m=\u001b[39m \u001b[43mpd\u001b[49m\u001b[38;5;241;43m.\u001b[39;49m\u001b[43mconcat\u001b[49m\u001b[43m(\u001b[49m\u001b[43mdfs\u001b[49m\u001b[43m,\u001b[49m\u001b[43m \u001b[49m\u001b[43maxis\u001b[49m\u001b[38;5;241;43m=\u001b[39;49m\u001b[38;5;241;43m0\u001b[39;49m\u001b[43m)\u001b[49m\u001b[38;5;66;03m#.sort_values([\"split\"]).reset_index(drop=True)\u001b[39;00m\n\u001b[1;32m     12\u001b[0m rr \u001b[38;5;241m=\u001b[39m rr\u001b[38;5;241m.\u001b[39msort_values([\u001b[38;5;124m\"\u001b[39m\u001b[38;5;124msplit\u001b[39m\u001b[38;5;124m\"\u001b[39m, canc_col_name, drug_col_name])\u001b[38;5;241m.\u001b[39mreset_index(drop\u001b[38;5;241m=\u001b[39m\u001b[38;5;28;01mTrue\u001b[39;00m)\n\u001b[1;32m     13\u001b[0m \u001b[38;5;28;01mreturn\u001b[39;00m rr\n",
      "File \u001b[0;32m~/miniconda3/envs/drp_stats_py39/lib/python3.9/site-packages/pandas/util/_decorators.py:311\u001b[0m, in \u001b[0;36mdeprecate_nonkeyword_arguments.<locals>.decorate.<locals>.wrapper\u001b[0;34m(*args, **kwargs)\u001b[0m\n\u001b[1;32m    305\u001b[0m \u001b[38;5;28;01mif\u001b[39;00m \u001b[38;5;28mlen\u001b[39m(args) \u001b[38;5;241m>\u001b[39m num_allow_args:\n\u001b[1;32m    306\u001b[0m     warnings\u001b[38;5;241m.\u001b[39mwarn(\n\u001b[1;32m    307\u001b[0m         msg\u001b[38;5;241m.\u001b[39mformat(arguments\u001b[38;5;241m=\u001b[39marguments),\n\u001b[1;32m    308\u001b[0m         \u001b[38;5;167;01mFutureWarning\u001b[39;00m,\n\u001b[1;32m    309\u001b[0m         stacklevel\u001b[38;5;241m=\u001b[39mstacklevel,\n\u001b[1;32m    310\u001b[0m     )\n\u001b[0;32m--> 311\u001b[0m \u001b[38;5;28;01mreturn\u001b[39;00m \u001b[43mfunc\u001b[49m\u001b[43m(\u001b[49m\u001b[38;5;241;43m*\u001b[39;49m\u001b[43margs\u001b[49m\u001b[43m,\u001b[49m\u001b[43m \u001b[49m\u001b[38;5;241;43m*\u001b[39;49m\u001b[38;5;241;43m*\u001b[39;49m\u001b[43mkwargs\u001b[49m\u001b[43m)\u001b[49m\n",
      "File \u001b[0;32m~/miniconda3/envs/drp_stats_py39/lib/python3.9/site-packages/pandas/core/reshape/concat.py:347\u001b[0m, in \u001b[0;36mconcat\u001b[0;34m(objs, axis, join, ignore_index, keys, levels, names, verify_integrity, sort, copy)\u001b[0m\n\u001b[1;32m    143\u001b[0m \u001b[38;5;129m@deprecate_nonkeyword_arguments\u001b[39m(version\u001b[38;5;241m=\u001b[39m\u001b[38;5;28;01mNone\u001b[39;00m, allowed_args\u001b[38;5;241m=\u001b[39m[\u001b[38;5;124m\"\u001b[39m\u001b[38;5;124mobjs\u001b[39m\u001b[38;5;124m\"\u001b[39m])\n\u001b[1;32m    144\u001b[0m \u001b[38;5;28;01mdef\u001b[39;00m \u001b[38;5;21mconcat\u001b[39m(\n\u001b[1;32m    145\u001b[0m     objs: Iterable[NDFrame] \u001b[38;5;241m|\u001b[39m Mapping[Hashable, NDFrame],\n\u001b[0;32m   (...)\u001b[0m\n\u001b[1;32m    154\u001b[0m     copy: \u001b[38;5;28mbool\u001b[39m \u001b[38;5;241m=\u001b[39m \u001b[38;5;28;01mTrue\u001b[39;00m,\n\u001b[1;32m    155\u001b[0m ) \u001b[38;5;241m-\u001b[39m\u001b[38;5;241m>\u001b[39m DataFrame \u001b[38;5;241m|\u001b[39m Series:\n\u001b[1;32m    156\u001b[0m     \u001b[38;5;124;03m\"\"\"\u001b[39;00m\n\u001b[1;32m    157\u001b[0m \u001b[38;5;124;03m    Concatenate pandas objects along a particular axis with optional set logic\u001b[39;00m\n\u001b[1;32m    158\u001b[0m \u001b[38;5;124;03m    along the other axes.\u001b[39;00m\n\u001b[0;32m   (...)\u001b[0m\n\u001b[1;32m    345\u001b[0m \u001b[38;5;124;03m    ValueError: Indexes have overlapping values: ['a']\u001b[39;00m\n\u001b[1;32m    346\u001b[0m \u001b[38;5;124;03m    \"\"\"\u001b[39;00m\n\u001b[0;32m--> 347\u001b[0m     op \u001b[38;5;241m=\u001b[39m \u001b[43m_Concatenator\u001b[49m\u001b[43m(\u001b[49m\n\u001b[1;32m    348\u001b[0m \u001b[43m        \u001b[49m\u001b[43mobjs\u001b[49m\u001b[43m,\u001b[49m\n\u001b[1;32m    349\u001b[0m \u001b[43m        \u001b[49m\u001b[43maxis\u001b[49m\u001b[38;5;241;43m=\u001b[39;49m\u001b[43maxis\u001b[49m\u001b[43m,\u001b[49m\n\u001b[1;32m    350\u001b[0m \u001b[43m        \u001b[49m\u001b[43mignore_index\u001b[49m\u001b[38;5;241;43m=\u001b[39;49m\u001b[43mignore_index\u001b[49m\u001b[43m,\u001b[49m\n\u001b[1;32m    351\u001b[0m \u001b[43m        \u001b[49m\u001b[43mjoin\u001b[49m\u001b[38;5;241;43m=\u001b[39;49m\u001b[43mjoin\u001b[49m\u001b[43m,\u001b[49m\n\u001b[1;32m    352\u001b[0m \u001b[43m        \u001b[49m\u001b[43mkeys\u001b[49m\u001b[38;5;241;43m=\u001b[39;49m\u001b[43mkeys\u001b[49m\u001b[43m,\u001b[49m\n\u001b[1;32m    353\u001b[0m \u001b[43m        \u001b[49m\u001b[43mlevels\u001b[49m\u001b[38;5;241;43m=\u001b[39;49m\u001b[43mlevels\u001b[49m\u001b[43m,\u001b[49m\n\u001b[1;32m    354\u001b[0m \u001b[43m        \u001b[49m\u001b[43mnames\u001b[49m\u001b[38;5;241;43m=\u001b[39;49m\u001b[43mnames\u001b[49m\u001b[43m,\u001b[49m\n\u001b[1;32m    355\u001b[0m \u001b[43m        \u001b[49m\u001b[43mverify_integrity\u001b[49m\u001b[38;5;241;43m=\u001b[39;49m\u001b[43mverify_integrity\u001b[49m\u001b[43m,\u001b[49m\n\u001b[1;32m    356\u001b[0m \u001b[43m        \u001b[49m\u001b[43mcopy\u001b[49m\u001b[38;5;241;43m=\u001b[39;49m\u001b[43mcopy\u001b[49m\u001b[43m,\u001b[49m\n\u001b[1;32m    357\u001b[0m \u001b[43m        \u001b[49m\u001b[43msort\u001b[49m\u001b[38;5;241;43m=\u001b[39;49m\u001b[43msort\u001b[49m\u001b[43m,\u001b[49m\n\u001b[1;32m    358\u001b[0m \u001b[43m    \u001b[49m\u001b[43m)\u001b[49m\n\u001b[1;32m    360\u001b[0m     \u001b[38;5;28;01mreturn\u001b[39;00m op\u001b[38;5;241m.\u001b[39mget_result()\n",
      "File \u001b[0;32m~/miniconda3/envs/drp_stats_py39/lib/python3.9/site-packages/pandas/core/reshape/concat.py:404\u001b[0m, in \u001b[0;36m_Concatenator.__init__\u001b[0;34m(self, objs, axis, join, keys, levels, names, ignore_index, verify_integrity, copy, sort)\u001b[0m\n\u001b[1;32m    401\u001b[0m     objs \u001b[38;5;241m=\u001b[39m \u001b[38;5;28mlist\u001b[39m(objs)\n\u001b[1;32m    403\u001b[0m \u001b[38;5;28;01mif\u001b[39;00m \u001b[38;5;28mlen\u001b[39m(objs) \u001b[38;5;241m==\u001b[39m \u001b[38;5;241m0\u001b[39m:\n\u001b[0;32m--> 404\u001b[0m     \u001b[38;5;28;01mraise\u001b[39;00m \u001b[38;5;167;01mValueError\u001b[39;00m(\u001b[38;5;124m\"\u001b[39m\u001b[38;5;124mNo objects to concatenate\u001b[39m\u001b[38;5;124m\"\u001b[39m)\n\u001b[1;32m    406\u001b[0m \u001b[38;5;28;01mif\u001b[39;00m keys \u001b[38;5;129;01mis\u001b[39;00m \u001b[38;5;28;01mNone\u001b[39;00m:\n\u001b[1;32m    407\u001b[0m     objs \u001b[38;5;241m=\u001b[39m \u001b[38;5;28mlist\u001b[39m(com\u001b[38;5;241m.\u001b[39mnot_none(\u001b[38;5;241m*\u001b[39mobjs))\n",
      "\u001b[0;31mValueError\u001b[0m: No objects to concatenate"
     ]
    }
   ],
   "source": [
    "# CTRP\n",
    "source = \"CTRPv2\"\n",
    "res_dir = infer_dir / f\"{source}-{target}\"\n",
    "cc = agg_pred_files(res_dir)\n",
    "ca = agg_pred_scores(cc)\n",
    "# ca = ca.sort_values('pred_mean').reset_index(drop=True)\n",
    "\n",
    "# GDSC\n",
    "source = \"GDSCv2\"\n",
    "res_dir = infer_dir / f\"{source}-{target}\"\n",
    "gg = agg_pred_files(res_dir)\n",
    "ga = agg_pred_scores(gg)\n",
    "# ga = ga.sort_values('pred_mean').reset_index(drop=True)"
   ]
  },
  {
   "cell_type": "code",
   "execution_count": null,
   "metadata": {},
   "outputs": [],
   "source": [
    "# print(ca.shape)\n",
    "# ca[:5]\n",
    "\n",
    "# print(ga.shape)\n",
    "# ga[:5]"
   ]
  },
  {
   "cell_type": "code",
   "execution_count": null,
   "metadata": {},
   "outputs": [],
   "source": [
    "kk = ov_drug_info[[drug_col_name, 'drug_name']].sort_values(drug_col_name)\n",
    "# print(kk)\n",
    "ca = ca.merge(kk, on=drug_col_name, how=\"inner\").drop_duplicates()\n",
    "ga = ga.merge(kk, on=drug_col_name, how=\"inner\").drop_duplicates()"
   ]
  },
  {
   "cell_type": "code",
   "execution_count": null,
   "metadata": {},
   "outputs": [],
   "source": [
    "# df = ca.copy()\n",
    "# df_pivot = df.pivot(index='drug_name', columns=canc_col_name, values=['pred_mean', 'pred_std'])\n",
    "# df_pivot"
   ]
  },
  {
   "cell_type": "code",
   "execution_count": null,
   "metadata": {},
   "outputs": [],
   "source": [
    "# df_pivot.columns\n",
    "# df_pivot = df_pivot.sort_values(('pred_mean', '655913~031-T'))\n",
    "# df_pivot"
   ]
  },
  {
   "cell_type": "code",
   "execution_count": null,
   "metadata": {},
   "outputs": [],
   "source": [
    "def gen_plot(df: pd.DataFrame, fpath: str, tr_data: str, errorbar: bool=False, show: bool=False):\n",
    "    \"\"\" ... \"\"\"\n",
    "\n",
    "    # # Provided DataFrame\n",
    "    # data = {\n",
    "    #     'improve_sample_id': ['655913~031-T'] * 16 + ['937885~149-R'] * 16,\n",
    "    #     'improve_chem_id': ['Drug_1105', 'Drug_1127', 'Drug_1173', 'Drug_1335', 'Drug_1363', 'Drug_1485', 'Drug_195', 'Drug_24', 'Drug_42', 'Drug_458', 'Drug_60', 'Drug_687', 'Drug_720', 'Drug_742', 'Drug_888', 'Drug_929',\n",
    "    #                         'Drug_1105', 'Drug_1127', 'Drug_1173', 'Drug_1335', 'Drug_1363', 'Drug_1485', 'Drug_195', 'Drug_24', 'Drug_42', 'Drug_458', 'Drug_60', 'Drug_687', 'Drug_720', 'Drug_742', 'Drug_888', 'Drug_929'],\n",
    "    #     'pred_mean': [0.51446, 0.51168, 0.88171, 0.88716, 0.58945, 0.76977, 0.60875, 0.88901, 0.95778, 0.78132, 0.60308, 0.96372, 0.93658, 0.82627, 0.90785, 0.81146,\n",
    "    #                   0.54210, 0.54533, 0.88836, 0.89869, 0.61914, 0.80194, 0.66576, 0.88526, 0.95472, 0.78690, 0.71252, 0.96288, 0.94399, 0.83376, 0.90808, 0.81382],\n",
    "    #     'pred_std': [0.083778, 0.099944, 0.040608, 0.022674, 0.051460, 0.048421, 0.062584, 0.063184, 0.016233, 0.047974, 0.122535, 0.010266, 0.031863, 0.047361, 0.027914, 0.051955,\n",
    "    #                  0.112399, 0.116313, 0.037299, 0.024605, 0.049752, 0.040869, 0.070850, 0.082034, 0.011844, 0.032342, 0.087551, 0.011282, 0.021407, 0.034942, 0.017503, 0.036321]\n",
    "    # }\n",
    "    # ca = pd.DataFrame(data)\n",
    "\n",
    "    # Prepend cell names\n",
    "    # df['improve_sample_id'] = 'pdo: ' + df['improve_sample_id']\n",
    "\n",
    "    # Pivot the DataFrame\n",
    "    # df_pivot = df.pivot(index=drug_col_name, columns=canc_col_name, values=['pred_mean', 'pred_std'])\n",
    "    df_pivot = df.pivot(index='drug_name', columns=canc_col_name, values=['pred_mean', 'pred_std'])\n",
    "\n",
    "    # df_pivot = df_pivot.sort_values(('pred_mean', '655913~031-T'))\n",
    "    random_pdo = df['improve_sample_id'].unique()[0]\n",
    "    df_pivot = df_pivot.sort_values(('pred_mean', random_pdo))\n",
    "    \n",
    "    # Plotting\n",
    "    fig, ax = plt.subplots(figsize=(14, 8))\n",
    "\n",
    "    # Get the number of drugs and cells\n",
    "    # drugs = df[drug_col_name].unique()\n",
    "    drugs = df['drug_name'].unique()\n",
    "    cells = df[canc_col_name].unique()\n",
    "    bar_width = 0.4  # Width of the bars\n",
    "    index = np.arange(len(drugs))  # The label locations\n",
    "\n",
    "    # Use a color palette from seaborn\n",
    "    # colors = sns.color_palette(\"terrain_r\", len(cells))\n",
    "    # colors = sns.color_palette(\"husl\", 9)\n",
    "    colors = sns.color_palette(\"pastel\")\n",
    "    # colors = sns.color_palette(\"muted\", 5)\n",
    "    # colors = sns.color_palette(\"blight\", 5)\n",
    "    # colors = sns.color_palette(\"deep\", 10)\n",
    "    # colors = sns.color_palette()\n",
    "\n",
    "    # Plot each cell\n",
    "    for i, (cell, color) in enumerate(zip(cells, colors)):\n",
    "        pred_mean = df_pivot['pred_mean'][cell].values\n",
    "        pred_std = df_pivot['pred_std'][cell].values\n",
    "        if errorbar:\n",
    "            bars = ax.bar(index + i * bar_width, pred_mean, bar_width, yerr=pred_std,\n",
    "                          label=cell, color=color, capsize=5, ecolor='black',\n",
    "                          error_kw=dict(linestyle='--', linewidth=1))\n",
    "            title = f'Predicted AUC and Standard Deviation by Drug and PDO (trained on {tr_data})'\n",
    "        else:\n",
    "            bars = ax.bar(index + i * bar_width, pred_mean, bar_width, label=cell,\n",
    "                          color=color, capsize=5, ecolor='black')\n",
    "            title = f'Predicted AUC by Drug and PDO (trained on {tr_data})'\n",
    "\n",
    "        # Add annotations\n",
    "        for bar, mean in zip(bars, pred_mean):\n",
    "            yval = bar.get_height()\n",
    "            ax.text(bar.get_x() + bar.get_width()/2, yval, f'{mean:.2f}', ha='center', va='bottom')\n",
    "\n",
    "    # Add labels, title, and legend\n",
    "    ax.set_xlabel('Drug')\n",
    "    ax.set_ylabel('Predicted AUC (mean across data splits)')\n",
    "    ax.set_title(title)\n",
    "    ax.set_xticks(index + bar_width / 2)\n",
    "    ax.set_xticklabels(drugs, rotation=45)\n",
    "    ax.legend()\n",
    "    ax.grid()\n",
    "\n",
    "    ax.set_ylim(0.4, None)\n",
    "\n",
    "    plt.tight_layout()\n",
    "\n",
    "    # Save the plot to a file\n",
    "    plt.savefig(fpath, dpi=300)\n",
    "    plt.show()\n"
   ]
  },
  {
   "cell_type": "code",
   "execution_count": null,
   "metadata": {},
   "outputs": [],
   "source": [
    "tr_data = \"CTRPv2\"\n",
    "gen_plot(df=ca, fpath=filepath / f'pdmr_trained_{model_name}_{tr_data}.png', tr_data=tr_data, errorbar=False, show=True)"
   ]
  },
  {
   "cell_type": "code",
   "execution_count": null,
   "metadata": {},
   "outputs": [],
   "source": [
    "tr_data = \"GDSCv2\"\n",
    "gen_plot(df=ga, fpath=filepath / f'pdmr_trained_{tr_data}.png', tr_data=tr_data, errorbar=False, show=True)"
   ]
  },
  {
   "cell_type": "code",
   "execution_count": null,
   "metadata": {},
   "outputs": [],
   "source": []
  },
  {
   "cell_type": "code",
   "execution_count": null,
   "metadata": {},
   "outputs": [],
   "source": []
  }
 ],
 "metadata": {
  "kernelspec": {
   "display_name": "drp_stats_py39",
   "language": "python",
   "name": "python3"
  },
  "language_info": {
   "codemirror_mode": {
    "name": "ipython",
    "version": 3
   },
   "file_extension": ".py",
   "mimetype": "text/x-python",
   "name": "python",
   "nbconvert_exporter": "python",
   "pygments_lexer": "ipython3",
   "version": "3.9.15"
  }
 },
 "nbformat": 4,
 "nbformat_minor": 2
}
